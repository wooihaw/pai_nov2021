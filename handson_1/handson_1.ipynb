{
 "cells": [
  {
   "cell_type": "markdown",
   "metadata": {},
   "source": [
    "# The objective of this hands-on is to ensure that the development environment has been properly set up "
   ]
  },
  {
   "cell_type": "code",
   "execution_count": null,
   "metadata": {},
   "outputs": [],
   "source": [
    "%matplotlib inline"
   ]
  },
  {
   "cell_type": "code",
   "execution_count": null,
   "metadata": {},
   "outputs": [],
   "source": [
    "import warnings\n",
    "warnings.filterwarnings('ignore')"
   ]
  },
  {
   "cell_type": "code",
   "execution_count": null,
   "metadata": {},
   "outputs": [],
   "source": [
    "# Load the required modules and libraries\n",
    "import numpy as np\n",
    "from pandas import read_csv\n",
    "from matplotlib import pyplot as plt\n",
    "from sklearn.neighbors import KNeighborsClassifier\n",
    "from sklearn.model_selection import train_test_split\n",
    "from sklearn.preprocessing import MinMaxScaler\n",
    "from sklearn.preprocessing import LabelEncoder"
   ]
  },
  {
   "cell_type": "code",
   "execution_count": null,
   "metadata": {},
   "outputs": [],
   "source": [
    "# load dataset\n",
    "dataraw = read_csv(\"heights_weights_genders.csv\")\n",
    "dataraw.sample(5)"
   ]
  },
  {
   "cell_type": "code",
   "execution_count": null,
   "metadata": {
    "scrolled": true
   },
   "outputs": [],
   "source": [
    "# Plot histograms\n",
    "dataraw.hist()\n",
    "plt.show()"
   ]
  },
  {
   "cell_type": "code",
   "execution_count": null,
   "metadata": {
    "scrolled": true
   },
   "outputs": [],
   "source": [
    "# Seperate the dataset into features (X) and label (y)\n",
    "dataset = dataraw.values\n",
    "X = dataset[:,:-1]\n",
    "y = dataset[:,-1]\n",
    "\n",
    "mpos = y == 'Male'\n",
    "fpos = y == 'Female'\n",
    "plt.plot(X[mpos, 0], X[mpos, 1], 'b*', alpha=0.1, label='Male')\n",
    "plt.plot(X[fpos, 0], X[fpos, 1], 'ro', alpha=0.1, label='Female')\n",
    "plt.xlabel('Height')\n",
    "plt.ylabel('Weight')\n",
    "plt.legend(loc='best')\n",
    "plt.show()"
   ]
  },
  {
   "cell_type": "code",
   "execution_count": null,
   "metadata": {},
   "outputs": [],
   "source": [
    "# split into input (X) and output (Y) variables\n",
    "X_train, X_test, y_train, y_test = train_test_split(X, y, test_size=0.2, random_state=42)\n",
    "print(f'X_train dimension: {X_train.shape}')\n",
    "print(f'X_test dimension: {X_test.shape}')\n",
    "print(f'y_train dimension: {y_train.shape}')\n",
    "print(f'y_test dimension: {y_test.shape}')"
   ]
  },
  {
   "cell_type": "code",
   "execution_count": null,
   "metadata": {},
   "outputs": [],
   "source": [
    "# Scaling the features to the range between 0 and 1\n",
    "print(f'Original minimum and maximum X_train: {X_train.min()}, {X_train.max()}')\n",
    "\n",
    "scaler = MinMaxScaler(feature_range=(0, 1)).fit(X)\n",
    "X2_train = scaler.fit_transform(X_train)\n",
    "X2_test = scaler.transform(X_test)\n",
    "print(f'Scaled minimum and maximum X_train: {X2_train.min()}, {X2_train.max()}')"
   ]
  },
  {
   "cell_type": "code",
   "execution_count": null,
   "metadata": {},
   "outputs": [],
   "source": [
    "# KNN classifier\n",
    "knn = KNeighborsClassifier()\n",
    "knn.fit(X2_train, y_train)\n",
    "predictions = knn.predict(X2_test)\n",
    "print(f'KNN accuracy: {100 * knn.score(X2_test, y_test):.3f}')"
   ]
  },
  {
   "cell_type": "code",
   "execution_count": null,
   "metadata": {},
   "outputs": [],
   "source": [
    "# Make prediction based on user input\n",
    "h = eval(input('Please enter height (cm): '))\n",
    "w = eval(input('Please enter weight (kg): '))\n",
    "q = scaler.transform(np.array([[h, w]]))\n",
    "\n",
    "res1 = knn.predict(q)\n",
    "print(f'kNN predicts: {res1}')"
   ]
  }
 ],
 "metadata": {
  "kernelspec": {
   "display_name": "Python 3",
   "language": "python",
   "name": "python3"
  },
  "language_info": {
   "codemirror_mode": {
    "name": "ipython",
    "version": 3
   },
   "file_extension": ".py",
   "mimetype": "text/x-python",
   "name": "python",
   "nbconvert_exporter": "python",
   "pygments_lexer": "ipython3",
   "version": "3.9.4"
  }
 },
 "nbformat": 4,
 "nbformat_minor": 2
}
