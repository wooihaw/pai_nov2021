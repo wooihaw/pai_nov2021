{
 "cells": [
  {
   "cell_type": "markdown",
   "metadata": {},
   "source": [
    "# Practical Artificial Intelligence with Machine and Deep Learning\n",
    "*WH Tan*"
   ]
  },
  {
   "cell_type": "markdown",
   "metadata": {},
   "source": [
    "## Index of Jupyter Notebooks\n",
    "### Part 1\n",
    "- [Hands-on 1](handson_1/handson_1.ipynb)\n",
    "\n",
    "### Part 2\n",
    "- [Part 2 sample codes](Part_2/Part_2.ipynb)\n",
    "- [Hands-on 2a](handson_2/handson_2a.ipynb)\n",
    "- [Hands-on 2b](handson_2/handson_2b.ipynb)\n",
    "- [Hands-on 2c](handson_2/handson_2c.ipynb)\n",
    "\n",
    "### Part 3\n",
    "- [Part 3 sample codes](Part_3/Part_3.ipynb)\n",
    "- [Hands-on 3](handson_3/handson_3.ipynb)\n",
    "\n",
    "### Part 4\n",
    "- [Hands-on 4a](https://nbviewer.jupyter.org/github/wooihaw/practical_ai/blob/main/handson_4a.ipynb)\n",
    "- [Hands-on 4b](https://nbviewer.jupyter.org/github/wooihaw/practical_ai/blob/main/handson_4b.ipynb)\n",
    "\n",
    "### Part 5\n",
    "- [Hands-on 5](https://nbviewer.jupyter.org/github/wooihaw/practical_ai/blob/main/Handson_5.ipynb)"
   ]
  },
  {
   "cell_type": "markdown",
   "metadata": {},
   "source": [
    "*&copy; 2021 WHTan*"
   ]
  }
 ],
 "metadata": {
  "kernelspec": {
   "display_name": "Python 3",
   "language": "python",
   "name": "python3"
  },
  "language_info": {
   "codemirror_mode": {
    "name": "ipython",
    "version": 3
   },
   "file_extension": ".py",
   "mimetype": "text/x-python",
   "name": "python",
   "nbconvert_exporter": "python",
   "pygments_lexer": "ipython3",
   "version": "3.9.4"
  }
 },
 "nbformat": 4,
 "nbformat_minor": 4
}
