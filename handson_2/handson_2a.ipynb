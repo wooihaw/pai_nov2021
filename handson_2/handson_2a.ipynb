{
 "cells": [
  {
   "cell_type": "code",
   "execution_count": 1,
   "metadata": {},
   "outputs": [],
   "source": [
    "%matplotlib inline\n",
    "from warnings import filterwarnings\n",
    "filterwarnings('ignore')"
   ]
  },
  {
   "cell_type": "code",
   "execution_count": 2,
   "metadata": {},
   "outputs": [
    {
     "name": "stdout",
     "output_type": "stream",
     "text": [
      "  age size gender\n",
      "0  17   XS      M\n",
      "1  23    M      F\n",
      "2   x    L      f\n",
      "3  38   XL      M\n",
      "4  54    S      M\n",
      "5  67    L      F\n",
      "6  32    M      F\n"
     ]
    }
   ],
   "source": [
    "# Handling missing value and categorical data\n",
    "import pandas as pd\n",
    "df = pd.DataFrame({'age': [17, 23, 'x', 38, 54, 67, 32],\n",
    "                  'size': ['XS', 'M', 'L', 'XL', 'S', 'L', 'M'],\n",
    "                  'gender':['M', 'F', 'f', 'M', 'M', 'F', 'F']})\n",
    "size_mapping = {'XS': 1, 'S': 2, 'M': 3, 'L': 4, 'XL': 5}\n",
    "print(df)"
   ]
  },
  {
   "cell_type": "markdown",
   "metadata": {},
   "source": [
    "To do:\n",
    "- Check missing values using info() and isnull()"
   ]
  },
  {
   "cell_type": "code",
   "execution_count": 5,
   "metadata": {},
   "outputs": [
    {
     "name": "stdout",
     "output_type": "stream",
     "text": [
      "<class 'pandas.core.frame.DataFrame'>\n",
      "RangeIndex: 7 entries, 0 to 6\n",
      "Data columns (total 3 columns):\n",
      " #   Column  Non-Null Count  Dtype \n",
      "---  ------  --------------  ----- \n",
      " 0   age     7 non-null      object\n",
      " 1   size    7 non-null      object\n",
      " 2   gender  7 non-null      object\n",
      "dtypes: object(3)\n",
      "memory usage: 296.0+ bytes\n"
     ]
    },
    {
     "data": {
      "text/plain": [
       "age       0\n",
       "size      0\n",
       "gender    0\n",
       "dtype: int64"
      ]
     },
     "execution_count": 5,
     "metadata": {},
     "output_type": "execute_result"
    }
   ],
   "source": [
    "df.info()\n",
    "df.isnull().sum()"
   ]
  },
  {
   "cell_type": "markdown",
   "metadata": {},
   "source": [
    "To do: \n",
    "- Replace missing values with NaN.\n",
    "- Print out the resulting dataframe.\n",
    "- Recheck missing values using info() and isnull()."
   ]
  },
  {
   "cell_type": "code",
   "execution_count": 6,
   "metadata": {},
   "outputs": [
    {
     "name": "stdout",
     "output_type": "stream",
     "text": [
      "    age size gender\n",
      "0  17.0   XS      M\n",
      "1  23.0    M      F\n",
      "2   NaN    L      f\n",
      "3  38.0   XL      M\n",
      "4  54.0    S      M\n",
      "5  67.0    L      F\n",
      "6  32.0    M      F\n",
      "<class 'pandas.core.frame.DataFrame'>\n",
      "RangeIndex: 7 entries, 0 to 6\n",
      "Data columns (total 3 columns):\n",
      " #   Column  Non-Null Count  Dtype  \n",
      "---  ------  --------------  -----  \n",
      " 0   age     6 non-null      float64\n",
      " 1   size    7 non-null      object \n",
      " 2   gender  7 non-null      object \n",
      "dtypes: float64(1), object(2)\n",
      "memory usage: 296.0+ bytes\n"
     ]
    },
    {
     "data": {
      "text/plain": [
       "age       1\n",
       "size      0\n",
       "gender    0\n",
       "dtype: int64"
      ]
     },
     "execution_count": 6,
     "metadata": {},
     "output_type": "execute_result"
    }
   ],
   "source": [
    "df.replace({'x': None}, inplace=True)\n",
    "print(df)\n",
    "df.info()\n",
    "df.isnull().sum()"
   ]
  },
  {
   "cell_type": "markdown",
   "metadata": {},
   "source": [
    "To do:\n",
    "- Encode ordinal data using map(). \n",
    "- Print out the resulting dataframe"
   ]
  },
  {
   "cell_type": "code",
   "execution_count": 7,
   "metadata": {},
   "outputs": [
    {
     "name": "stdout",
     "output_type": "stream",
     "text": [
      "    age  size gender\n",
      "0  17.0     1      M\n",
      "1  23.0     3      F\n",
      "2   NaN     4      f\n",
      "3  38.0     5      M\n",
      "4  54.0     2      M\n",
      "5  67.0     4      F\n",
      "6  32.0     3      F\n"
     ]
    }
   ],
   "source": [
    "df['size'] = df['size'].map(size_mapping)\n",
    "print(df)"
   ]
  },
  {
   "cell_type": "markdown",
   "metadata": {},
   "source": [
    "To do:\n",
    "- Use pd.get_dummies() to encode nominal data using one-hot encoding and store the resulting dataframe in df1.\n",
    "- Print df1 and verify that the resulting dataframe is correct."
   ]
  },
  {
   "cell_type": "code",
   "execution_count": 8,
   "metadata": {},
   "outputs": [
    {
     "name": "stdout",
     "output_type": "stream",
     "text": [
      "    age  size  gender_F  gender_M  gender_f\n",
      "0  17.0     1         0         1         0\n",
      "1  23.0     3         1         0         0\n",
      "2   NaN     4         0         0         1\n",
      "3  38.0     5         0         1         0\n",
      "4  54.0     2         0         1         0\n",
      "5  67.0     4         1         0         0\n",
      "6  32.0     3         1         0         0\n"
     ]
    }
   ],
   "source": [
    "df1 = pd.get_dummies(df)\n",
    "print(df1)"
   ]
  },
  {
   "cell_type": "markdown",
   "metadata": {},
   "source": [
    "To do:\n",
    "- Rectify the problem in the previous step.\n",
    "- Use pd.get_dummies() to encode nominal data using one-hot encoding and store the resulting dataframe in df2.\n",
    "- Print df2."
   ]
  },
  {
   "cell_type": "code",
   "execution_count": 9,
   "metadata": {},
   "outputs": [
    {
     "name": "stdout",
     "output_type": "stream",
     "text": [
      "    age  size  gender_F  gender_M\n",
      "0  17.0     1         0         1\n",
      "1  23.0     3         1         0\n",
      "2   NaN     4         1         0\n",
      "3  38.0     5         0         1\n",
      "4  54.0     2         0         1\n",
      "5  67.0     4         1         0\n",
      "6  32.0     3         1         0\n"
     ]
    }
   ],
   "source": [
    "df['gender'] = df['gender'].str.upper()\n",
    "df2 = pd.get_dummies(df)\n",
    "print(df2)"
   ]
  },
  {
   "cell_type": "markdown",
   "metadata": {},
   "source": [
    "To do:\n",
    "- Impute missing data with median value of the column"
   ]
  },
  {
   "cell_type": "code",
   "execution_count": 10,
   "metadata": {},
   "outputs": [
    {
     "name": "stdout",
     "output_type": "stream",
     "text": [
      "    age  size  gender_F  gender_M\n",
      "0  17.0     1         0         1\n",
      "1  23.0     3         1         0\n",
      "2  35.0     4         1         0\n",
      "3  38.0     5         0         1\n",
      "4  54.0     2         0         1\n",
      "5  67.0     4         1         0\n",
      "6  32.0     3         1         0\n"
     ]
    }
   ],
   "source": [
    "df2['age'].fillna(df2['age'].median(), inplace=True)\n",
    "print(df2)"
   ]
  }
 ],
 "metadata": {
  "kernelspec": {
   "display_name": "Python 3",
   "language": "python",
   "name": "python3"
  },
  "language_info": {
   "codemirror_mode": {
    "name": "ipython",
    "version": 3
   },
   "file_extension": ".py",
   "mimetype": "text/x-python",
   "name": "python",
   "nbconvert_exporter": "python",
   "pygments_lexer": "ipython3",
   "version": "3.9.4"
  }
 },
 "nbformat": 4,
 "nbformat_minor": 4
}
