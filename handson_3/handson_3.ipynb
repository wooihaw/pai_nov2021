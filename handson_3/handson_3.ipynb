{
 "cells": [
  {
   "cell_type": "markdown",
   "metadata": {},
   "source": [
    "## Hands-on 3A\n",
    "### Regression\n",
    "#### Build a regression model to estimate the weight based on height"
   ]
  },
  {
   "cell_type": "code",
   "execution_count": 1,
   "metadata": {},
   "outputs": [],
   "source": [
    "from warnings import filterwarnings\n",
    "filterwarnings('ignore')"
   ]
  },
  {
   "cell_type": "code",
   "execution_count": 2,
   "metadata": {},
   "outputs": [
    {
     "data": {
      "text/html": [
       "<div>\n",
       "<style scoped>\n",
       "    .dataframe tbody tr th:only-of-type {\n",
       "        vertical-align: middle;\n",
       "    }\n",
       "\n",
       "    .dataframe tbody tr th {\n",
       "        vertical-align: top;\n",
       "    }\n",
       "\n",
       "    .dataframe thead th {\n",
       "        text-align: right;\n",
       "    }\n",
       "</style>\n",
       "<table border=\"1\" class=\"dataframe\">\n",
       "  <thead>\n",
       "    <tr style=\"text-align: right;\">\n",
       "      <th></th>\n",
       "      <th>Height(cm)</th>\n",
       "      <th>Weight(kg)</th>\n",
       "      <th>Gender</th>\n",
       "    </tr>\n",
       "  </thead>\n",
       "  <tbody>\n",
       "    <tr>\n",
       "      <th>0</th>\n",
       "      <td>187.6</td>\n",
       "      <td>109.7</td>\n",
       "      <td>Male</td>\n",
       "    </tr>\n",
       "    <tr>\n",
       "      <th>1</th>\n",
       "      <td>174.7</td>\n",
       "      <td>73.6</td>\n",
       "      <td>Male</td>\n",
       "    </tr>\n",
       "    <tr>\n",
       "      <th>2</th>\n",
       "      <td>188.2</td>\n",
       "      <td>96.5</td>\n",
       "      <td>Male</td>\n",
       "    </tr>\n",
       "    <tr>\n",
       "      <th>3</th>\n",
       "      <td>182.2</td>\n",
       "      <td>99.8</td>\n",
       "      <td>Male</td>\n",
       "    </tr>\n",
       "    <tr>\n",
       "      <th>4</th>\n",
       "      <td>177.5</td>\n",
       "      <td>93.6</td>\n",
       "      <td>Male</td>\n",
       "    </tr>\n",
       "    <tr>\n",
       "      <th>...</th>\n",
       "      <td>...</td>\n",
       "      <td>...</td>\n",
       "      <td>...</td>\n",
       "    </tr>\n",
       "    <tr>\n",
       "      <th>9995</th>\n",
       "      <td>168.1</td>\n",
       "      <td>62.0</td>\n",
       "      <td>Female</td>\n",
       "    </tr>\n",
       "    <tr>\n",
       "      <th>9996</th>\n",
       "      <td>170.4</td>\n",
       "      <td>77.5</td>\n",
       "      <td>Female</td>\n",
       "    </tr>\n",
       "    <tr>\n",
       "      <th>9997</th>\n",
       "      <td>162.2</td>\n",
       "      <td>58.3</td>\n",
       "      <td>Female</td>\n",
       "    </tr>\n",
       "    <tr>\n",
       "      <th>9998</th>\n",
       "      <td>175.3</td>\n",
       "      <td>74.3</td>\n",
       "      <td>Female</td>\n",
       "    </tr>\n",
       "    <tr>\n",
       "      <th>9999</th>\n",
       "      <td>157.3</td>\n",
       "      <td>51.6</td>\n",
       "      <td>Female</td>\n",
       "    </tr>\n",
       "  </tbody>\n",
       "</table>\n",
       "<p>10000 rows × 3 columns</p>\n",
       "</div>"
      ],
      "text/plain": [
       "      Height(cm)  Weight(kg)  Gender\n",
       "0          187.6       109.7    Male\n",
       "1          174.7        73.6    Male\n",
       "2          188.2        96.5    Male\n",
       "3          182.2        99.8    Male\n",
       "4          177.5        93.6    Male\n",
       "...          ...         ...     ...\n",
       "9995       168.1        62.0  Female\n",
       "9996       170.4        77.5  Female\n",
       "9997       162.2        58.3  Female\n",
       "9998       175.3        74.3  Female\n",
       "9999       157.3        51.6  Female\n",
       "\n",
       "[10000 rows x 3 columns]"
      ]
     },
     "execution_count": 2,
     "metadata": {},
     "output_type": "execute_result"
    }
   ],
   "source": [
    "from pandas import read_csv, get_dummies\n",
    "from sklearn.model_selection import train_test_split as split\n",
    "from sklearn.linear_model import LinearRegression\n",
    "\n",
    "df = read_csv('heights_weights_genders.csv')\n",
    "df"
   ]
  },
  {
   "cell_type": "code",
   "execution_count": 3,
   "metadata": {},
   "outputs": [
    {
     "name": "stdout",
     "output_type": "stream",
     "text": [
      "R2 score: 0.8573115456970967\n",
      "Enter height: 175\n",
      "Estimated weight is: [82.03843622]kg\n"
     ]
    }
   ],
   "source": [
    "X1 = df.values[:, 0].reshape(-1, 1)\n",
    "y1 = df.values[:, 1]\n",
    "X1_train, X1_test, y1_train, y1_test = split(X1, y1, random_state=42)\n",
    "\n",
    "lr1 = LinearRegression().fit(X1_train, y1_train)\n",
    "print(f'R2 score: {lr1.score(X1_test, y1_test)}')\n",
    "\n",
    "h = eval(input('Enter height: '))\n",
    "print(f'Estimated weight is: {lr1.predict([[h]])}kg')"
   ]
  },
  {
   "cell_type": "markdown",
   "metadata": {},
   "source": [
    "To do: Build another regression model to estimate the weight based on height and gender"
   ]
  },
  {
   "cell_type": "code",
   "execution_count": 10,
   "metadata": {},
   "outputs": [
    {
     "name": "stdout",
     "output_type": "stream",
     "text": [
      "   Height(cm)  Weight(kg)  Gender_Male\n",
      "0       187.6       109.7            1\n",
      "1       174.7        73.6            1\n",
      "2       188.2        96.5            1\n",
      "3       182.2        99.8            1\n",
      "4       177.5        93.6            1\n",
      "(10000, 2) (10000,)\n",
      "lr2 score: 0.9026663813060709\n",
      "Enter height: 175\n",
      "Enter gender (0 for female, 1 for male): 1\n",
      "Estimated weight is: [84.45653817]kg\n"
     ]
    }
   ],
   "source": [
    "df2 = get_dummies(df, drop_first=True)\n",
    "print(df2.head())\n",
    "y2 = df2['Weight(kg)'].values\n",
    "del df2['Weight(kg)']\n",
    "X2 = df2.values\n",
    "print(X2.shape, y2.shape)\n",
    "X2_train, X2_test, y2_train, y2_test = split(X2, y2, random_state=42)\n",
    "\n",
    "lr2 = LinearRegression().fit(X2_train, y2_train)\n",
    "print(f'lr2 score: {lr2.score(X2_test, y2_test)}')\n",
    "\n",
    "h = eval(input('Enter height: '))\n",
    "g = eval(input('Enter gender (0 for female, 1 for male): '))\n",
    "print(f'Estimated weight is: {lr2.predict([[h, g]])}kg')"
   ]
  },
  {
   "cell_type": "markdown",
   "metadata": {},
   "source": [
    "## Hands-on 3B \n",
    "### Classification\n",
    "#### Build 3 classification models for breast cancer detection"
   ]
  },
  {
   "cell_type": "code",
   "execution_count": 12,
   "metadata": {},
   "outputs": [],
   "source": [
    "from sklearn.datasets import load_breast_cancer\n",
    "from sklearn.model_selection import train_test_split as split, KFold, cross_val_score\n",
    "from sklearn.linear_model import LogisticRegression\n",
    "from sklearn.tree import DecisionTreeClassifier\n",
    "from sklearn.neighbors import KNeighborsClassifier\n",
    "from sklearn.feature_selection import SelectKBest\n",
    "from sklearn.decomposition import PCA\n",
    "\n",
    "cancer = load_breast_cancer()\n",
    "feature_names = cancer.feature_names\n",
    "target_names = cancer.target_names\n",
    "X = cancer.data\n",
    "y = cancer.target"
   ]
  },
  {
   "cell_type": "markdown",
   "metadata": {},
   "source": [
    "To do: Check the number of features in the dataset"
   ]
  },
  {
   "cell_type": "code",
   "execution_count": 14,
   "metadata": {},
   "outputs": [
    {
     "name": "stdout",
     "output_type": "stream",
     "text": [
      "Number of feature: 30\n"
     ]
    }
   ],
   "source": [
    "print(f'Number of feature: {X.shape[1]}')"
   ]
  },
  {
   "cell_type": "markdown",
   "metadata": {},
   "source": [
    "To do: Evaluate the performance of k-Nearest Neighbors, Logistic Regression and Decision Tree on this dataset using 5-fold cross validation."
   ]
  },
  {
   "cell_type": "code",
   "execution_count": 15,
   "metadata": {},
   "outputs": [
    {
     "name": "stdout",
     "output_type": "stream",
     "text": [
      "knn mean score: 0.936686849868033, std dev: 0.02809807834514385\n",
      "lgr mean score: 0.9419655333022823, std dev: 0.033652071581884734\n",
      "dtc mean score: 0.9367644775655954, std dev: 0.011508876248377273\n"
     ]
    }
   ],
   "source": [
    "kfold = KFold(5, shuffle=True, random_state=42)\n",
    "models = []\n",
    "models.append(('knn', KNeighborsClassifier()))\n",
    "models.append(('lgr', LogisticRegression()))\n",
    "models.append(('dtc', DecisionTreeClassifier()))\n",
    "\n",
    "for n, m in models:\n",
    "    scores = cross_val_score(m, X, y, cv=kfold, n_jobs=-1)\n",
    "    print(f'{n} mean score: {scores.mean()}, std dev: {scores.std()}')"
   ]
  },
  {
   "cell_type": "markdown",
   "metadata": {},
   "source": [
    "To do: Use Univariate Selection to select 10 best features. Evaluate the performance of k-Nearest Neighbors, Logistic Regression and Decision Tree on these features using 5-fold cross validation."
   ]
  },
  {
   "cell_type": "code",
   "execution_count": null,
   "metadata": {},
   "outputs": [],
   "source": []
  },
  {
   "cell_type": "markdown",
   "metadata": {},
   "source": [
    "To do: Use Principle Component Analysis (PCA) to reduce the dimensionality of the original features to 10. Evaluate the performance of k-Nearest Neighbors, Logistic Regression and Decision Tree on these features using 5-fold cross validation."
   ]
  },
  {
   "cell_type": "code",
   "execution_count": null,
   "metadata": {},
   "outputs": [],
   "source": []
  },
  {
   "cell_type": "markdown",
   "metadata": {},
   "source": [
    "## Hands-on 3C\n",
    "### Clustering\n",
    "#### Construct a model to group the truck drivers"
   ]
  },
  {
   "cell_type": "code",
   "execution_count": null,
   "metadata": {},
   "outputs": [],
   "source": [
    "import pandas as pd\n",
    "import matplotlib.pyplot as plt\n",
    "from sklearn.cluster import KMeans\n",
    "\n",
    "# Read dataset\n",
    "df = pd.read_csv('drivers.csv', sep='\\t', header=0)\n",
    "\n",
    "# Store features (Column 1 & 2)\n",
    "X = df.iloc[:, 1:].values\n",
    "\n",
    "# Apply k-mean clustering with 2 clusters\n",
    "km = KMeans(n_clusters=2).fit(X)\n",
    "\n",
    "plt.scatter(X[:, 0], X[:, 1], c=km.labels_)\n",
    "plt.show()"
   ]
  },
  {
   "cell_type": "markdown",
   "metadata": {},
   "source": [
    "To do: To group the truck drivers into 4 clusters and label the data samples according to their cluster"
   ]
  },
  {
   "cell_type": "code",
   "execution_count": null,
   "metadata": {},
   "outputs": [],
   "source": []
  },
  {
   "cell_type": "markdown",
   "metadata": {},
   "source": [
    "To do: Add labels to df and save it as a CSV file"
   ]
  },
  {
   "cell_type": "code",
   "execution_count": null,
   "metadata": {},
   "outputs": [],
   "source": []
  }
 ],
 "metadata": {
  "kernelspec": {
   "display_name": "Python 3",
   "language": "python",
   "name": "python3"
  },
  "language_info": {
   "codemirror_mode": {
    "name": "ipython",
    "version": 3
   },
   "file_extension": ".py",
   "mimetype": "text/x-python",
   "name": "python",
   "nbconvert_exporter": "python",
   "pygments_lexer": "ipython3",
   "version": "3.9.4"
  }
 },
 "nbformat": 4,
 "nbformat_minor": 4
}
